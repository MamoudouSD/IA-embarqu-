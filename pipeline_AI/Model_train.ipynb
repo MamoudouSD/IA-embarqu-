{
 "cells": [
  {
   "cell_type": "code",
   "execution_count": 48,
   "metadata": {},
   "outputs": [],
   "source": [
    "import tensorflow as tf\n",
    "tf.debugging.set_log_device_placement(False)\n",
    "from keras.models import Model\n",
    "import matplotlib.pyplot as plt\n",
    "import os\n",
    "import numpy as np\n",
    "import keras\n",
    "import sklearn\n",
    "import sklearn.model_selection\n",
    "from sklearn.utils import shuffle \n",
    "from tensorflow.keras.utils import to_categorical\n",
    "from tensorflow.keras.optimizers import Adam\n",
    "from tensorflow_model_optimization.python.core.keras.compat import keras"
   ]
  },
  {
   "cell_type": "code",
   "execution_count": 49,
   "metadata": {},
   "outputs": [
    {
     "name": "stdout",
     "output_type": "stream",
     "text": [
      "\n",
      "Devices:  [PhysicalDevice(name='/physical_device:CPU:0', device_type='CPU'), PhysicalDevice(name='/physical_device:GPU:0', device_type='GPU')]\n",
      "GPU details:  {'device_name': 'METAL'}\n"
     ]
    }
   ],
   "source": [
    "devices = tf.config.list_physical_devices()\n",
    "print(\"\\nDevices: \", devices)\n",
    "\n",
    "gpus = tf.config.list_physical_devices('GPU')\n",
    "if gpus:\n",
    "  details = tf.config.experimental.get_device_details(gpus[0])\n",
    "  print(\"GPU details: \", details)"
   ]
  },
  {
   "cell_type": "code",
   "execution_count": 50,
   "metadata": {},
   "outputs": [],
   "source": [
    "def get_gzipped_model_size(file):\n",
    "  import os\n",
    "  import zipfile\n",
    "\n",
    "  _, zipped_file = tempfile.mkstemp('.zip')\n",
    "  with zipfile.ZipFile(zipped_file, 'w', compression=zipfile.ZIP_DEFLATED) as f:\n",
    "    f.write(file)\n",
    "\n",
    "  return os.path.getsize(zipped_file)"
   ]
  },
  {
   "cell_type": "markdown",
   "metadata": {},
   "source": [
    "# Chargement des données"
   ]
  },
  {
   "cell_type": "code",
   "execution_count": 51,
   "metadata": {},
   "outputs": [],
   "source": [
    "# Le dossier principal qui contient les donn�es\n",
    "mainDataPath = \"Database/archive/leapGestRecog/\"\n",
    "\n",
    "# Le nom du fichier du mod�le � sauvegarder\n",
    "modelsPath = \"model/model.h5\"\n",
    "\n",
    "training_batch_size = 18000  \n",
    "validation_batch_size = 6000  \n",
    "\n",
    "# Configuration des  images \n",
    "image_scale = 120 \n",
    "image_channels = 1  \n",
    "images_color_mode = \"grayscale\" \n",
    "image_shape = (image_scale, image_scale, image_channels) \n",
    "\n",
    "# Configuration des param�tres d'entrainement\n",
    "fit_batch_size = 60 # le nombre d'images entrain�es ensemble: un batch\n",
    "fit_epochs = 5 # Le nombre d'�poques "
   ]
  },
  {
   "cell_type": "code",
   "execution_count": null,
   "metadata": {},
   "outputs": [],
   "source": []
  },
  {
   "cell_type": "code",
   "execution_count": 52,
   "metadata": {},
   "outputs": [
    {
     "name": "stdout",
     "output_type": "stream",
     "text": [
      "Dataset loaded.\n",
      "Total images: 20000\n",
      "Image shape: (120, 120, 1)\n",
      "Number of classes: 10\n",
      "Label mappings: {'05_thumb': 0, '08_palm_moved': 1, '02_l': 2, '01_palm': 3, '07_ok': 4, '10_down': 5, '06_index': 6, '09_c': 7, '03_fist': 8, '04_fist_moved': 9}\n",
      "Training set shape: (14000, 120, 120, 1), (14000, 10)\n",
      "Validation set shape: (4200, 120, 120, 1), (4200, 10)\n",
      "Validation set shape: (1800, 120, 120, 1), (1800, 10)\n"
     ]
    }
   ],
   "source": [
    "def load_and_preprocess_image(filename, image_channels):\n",
    "    image = tf.io.read_file(filename)\n",
    "    image = tf.image.decode_jpeg(image, channels=image_channels)\n",
    "    return image\n",
    "\n",
    "# Initialize lists to store images and labels\n",
    "x_data = []\n",
    "y_data = []\n",
    "\n",
    "# Dictionaries for label encoding and decoding\n",
    "lookup = {}\n",
    "reverselookup = {}\n",
    "label_count = 0\n",
    "\n",
    "# Create label mappings based on subfolders\n",
    "for folder_name in os.listdir(mainDataPath + '00/'):\n",
    "    if not folder_name.startswith('.'):\n",
    "        lookup[folder_name] = label_count\n",
    "        reverselookup[label_count] = folder_name\n",
    "        label_count += 1\n",
    "\n",
    "# Load images and labels\n",
    "for i in range(10):  # Assumes folders named '00' to '09'\n",
    "    folder_path = f'{mainDataPath}0{i}/'\n",
    "    for gesture_folder in os.listdir(folder_path):\n",
    "        if not gesture_folder.startswith('.'):\n",
    "            for image_file in os.listdir(f'{folder_path}{gesture_folder}/'):\n",
    "                # Load and resize each image\n",
    "                img_path = f'{folder_path}{gesture_folder}/{image_file}'\n",
    "                #img = cv2.imread(img_path, cv2.IMREAD_GRAYSCALE)\n",
    "                img = load_and_preprocess_image(img_path, image_channels)\n",
    "                \n",
    "                # Check if image is loaded successfully\n",
    "                if img is None:\n",
    "                    print(f\"Warning: Image {img_path} could not be loaded.\")\n",
    "                    continue\n",
    "\n",
    "                # Resize and add to dataset\n",
    "                #img = cv2.resize(img, (image_scale, image_scale))\n",
    "                img = tf.image.resize(img, (image_scale, image_scale))\n",
    "                x_data.append(img)\n",
    "                y_data.append(lookup[gesture_folder])\n",
    "\n",
    "\n",
    "# Convert lists to numpy arrays and normalize\n",
    "x_data = np.array(x_data, dtype='float32').reshape(-1, image_scale, image_scale, 1) / 255.0\n",
    "y_data = np.array(y_data)\n",
    "\n",
    "y_data = to_categorical(y_data, num_classes=len(lookup))\n",
    "\n",
    "# Shuffle the dataset\n",
    "x_data, y_data = shuffle(x_data, y_data, random_state=42)\n",
    "\n",
    "# Split into training and validation sets (80% train, 20% validation)\n",
    "x_train, x_vt, y_train, y_vt = sklearn.model_selection.train_test_split(x_data, y_data, test_size=0.3, random_state=42)\n",
    "x_val, x_test, y_val, y_test = sklearn.model_selection.train_test_split(x_vt, y_vt, test_size=0.3, random_state=42)\n",
    "\n",
    "print(\"Dataset loaded.\")\n",
    "print(f\"Total images: {len(x_data)}\")\n",
    "print(f\"Image shape: {x_data[0].shape}\")\n",
    "print(f\"Number of classes: {len(lookup)}\")\n",
    "\n",
    "print(\"Label mappings:\", lookup)\n",
    "\n",
    "print(f\"Training set shape: {x_train.shape}, {y_train.shape}\")\n",
    "print(f\"Validation set shape: {x_val.shape}, {y_val.shape}\")\n",
    "print(f\"Validation set shape: {x_test.shape}, {y_test.shape}\")"
   ]
  },
  {
   "cell_type": "code",
   "execution_count": null,
   "metadata": {},
   "outputs": [],
   "source": []
  },
  {
   "cell_type": "markdown",
   "metadata": {},
   "source": [
    "# Entrainement du model"
   ]
  },
  {
   "cell_type": "code",
   "execution_count": 53,
   "metadata": {},
   "outputs": [
    {
     "name": "stdout",
     "output_type": "stream",
     "text": [
      "Model: \"model\"\n",
      "_________________________________________________________________\n",
      " Layer (type)                Output Shape              Param #   \n",
      "=================================================================\n",
      " input_1 (InputLayer)        [(None, 120, 120, 1)]     0         \n",
      "                                                                 \n",
      " conv2d (Conv2D)             (None, 120, 120, 32)      320       \n",
      "                                                                 \n",
      " activation (Activation)     (None, 120, 120, 32)      0         \n",
      "                                                                 \n",
      " max_pooling2d (MaxPooling2  (None, 60, 60, 32)        0         \n",
      " D)                                                              \n",
      "                                                                 \n",
      " conv2d_1 (Conv2D)           (None, 60, 60, 64)        18496     \n",
      "                                                                 \n",
      " activation_1 (Activation)   (None, 60, 60, 64)        0         \n",
      "                                                                 \n",
      " max_pooling2d_1 (MaxPoolin  (None, 30, 30, 64)        0         \n",
      " g2D)                                                            \n",
      "                                                                 \n",
      " conv2d_2 (Conv2D)           (None, 30, 30, 128)       73856     \n",
      "                                                                 \n",
      " activation_2 (Activation)   (None, 30, 30, 128)       0         \n",
      "                                                                 \n",
      " max_pooling2d_2 (MaxPoolin  (None, 15, 15, 128)       0         \n",
      " g2D)                                                            \n",
      "                                                                 \n",
      " flatten (Flatten)           (None, 28800)             0         \n",
      "                                                                 \n",
      " dense (Dense)               (None, 128)               3686528   \n",
      "                                                                 \n",
      " activation_3 (Activation)   (None, 128)               0         \n",
      "                                                                 \n",
      " dropout (Dropout)           (None, 128)               0         \n",
      "                                                                 \n",
      " dense_1 (Dense)             (None, 10)                1290      \n",
      "                                                                 \n",
      " activation_4 (Activation)   (None, 10)                0         \n",
      "                                                                 \n",
      "=================================================================\n",
      "Total params: 3780490 (14.42 MB)\n",
      "Trainable params: 3780490 (14.42 MB)\n",
      "Non-trainable params: 0 (0.00 Byte)\n",
      "_________________________________________________________________\n"
     ]
    }
   ],
   "source": [
    "input_layer = keras.layers.Input(shape=image_shape)\n",
    "\n",
    "\n",
    "# Partie feature extraction (ou cascade de couches d'extraction des caract�ristiques)\n",
    "def feature_extraction(input):\n",
    "  \n",
    "    \n",
    "    x = keras.layers.Conv2D(32, (3, 3), padding='same')(input) \n",
    "    x = keras.layers.Activation(\"relu\")(x)\n",
    "    x = keras.layers.MaxPooling2D((2, 2))(x)\n",
    "\n",
    "    x = keras.layers.Conv2D(64, (3, 3), padding='same')(x) \n",
    "    x = keras.layers.Activation(\"relu\")(x)\n",
    "    x = keras.layers.MaxPooling2D((2, 2))(x)\n",
    "\n",
    "    x = keras.layers.Conv2D(128, (3, 3), padding='same')(x) \n",
    "    x = keras.layers.Activation(\"relu\")(x)\n",
    "    encoded = keras.layers.MaxPooling2D((2, 2))(x)\n",
    "    return encoded\n",
    "\n",
    "\n",
    "# Partie compl�tement connect�e (Fully Connected Layer)\n",
    "def fully_connected(encoded):\n",
    "    x = keras.layers.Flatten(input_shape=image_shape)(encoded)\n",
    "    x = keras.layers.Dense(128)(x)\n",
    "    x = keras.layers.Activation(\"relu\")(x)\n",
    "    x= keras.layers.Dropout(0.5)(x)\n",
    "\n",
    "    x = keras.layers.Dense(10)(x)\n",
    "    sortie = keras.layers.Activation('softmax')(x)\n",
    "    return sortie\n",
    "\n",
    "\n",
    "# D�claration du mod�le:\n",
    "# La sortie de l'extracteur des features sert comme entr�e � la couche compl�tement connect�e\n",
    "model = keras.Model(input_layer, fully_connected(feature_extraction(input_layer)))\n",
    "\n",
    "# Affichage des param�tres du mod�le\n",
    "# Cette commande affiche un tableau avec les d�tails du mod�le \n",
    "# (nombre de couches et de param�tre ...)\n",
    "model.summary()\n",
    "# Compilation du mod�le :\n",
    "# On d�finit la fonction de perte (exemple :loss='binary_crossentropy' ou loss='mse')\n",
    "# L'optimisateur utilis� avec ses param�tres (Exemple : optimizer=adam(learning_rate=0.001) )\n",
    "# La valeur � afficher durant l'entrainement, metrics=['accuracy'] \n",
    "model.compile(loss=\"categorical_crossentropy\", optimizer='adam', metrics=['accuracy'])"
   ]
  },
  {
   "cell_type": "code",
   "execution_count": 54,
   "metadata": {},
   "outputs": [
    {
     "name": "stdout",
     "output_type": "stream",
     "text": [
      "Epoch 1/5\n",
      "234/234 [==============================] - ETA: 0s - loss: 2.2355 - accuracy: 0.7562\n",
      "Epoch 1: val_accuracy improved from -inf to 0.97738, saving model to model/model.h5\n",
      "234/234 [==============================] - 16s 62ms/step - loss: 2.2355 - accuracy: 0.7562 - val_loss: 0.9724 - val_accuracy: 0.9774\n",
      "Epoch 2/5\n",
      "  2/234 [..............................] - ETA: 11s - loss: 9.2957 - accuracy: 0.8083 "
     ]
    },
    {
     "name": "stderr",
     "output_type": "stream",
     "text": [
      "/Users/mamoudousdiani/miniconda3/envs/tf_clone/lib/python3.9/site-packages/tf_keras/src/engine/training.py:3098: UserWarning: You are saving your model as an HDF5 file via `model.save()`. This file format is considered legacy. We recommend using instead the native TF-Keras format, e.g. `model.save('my_model.keras')`.\n",
      "  saving_api.save_model(\n"
     ]
    },
    {
     "name": "stdout",
     "output_type": "stream",
     "text": [
      "233/234 [============================>.] - ETA: 0s - loss: 8.0962 - accuracy: 0.9305\n",
      "Epoch 2: val_accuracy improved from 0.97738 to 0.99095, saving model to model/model.h5\n",
      "234/234 [==============================] - 13s 56ms/step - loss: 8.0846 - accuracy: 0.9306 - val_loss: 2.1099 - val_accuracy: 0.9910\n",
      "Epoch 3/5\n",
      "233/234 [============================>.] - ETA: 0s - loss: 14.9710 - accuracy: 0.9600\n",
      "Epoch 3: val_accuracy improved from 0.99095 to 0.99595, saving model to model/model.h5\n",
      "234/234 [==============================] - 13s 54ms/step - loss: 14.9496 - accuracy: 0.9601 - val_loss: 2.5479 - val_accuracy: 0.9960\n",
      "Epoch 4/5\n",
      "234/234 [==============================] - ETA: 0s - loss: 30.1260 - accuracy: 0.9708\n",
      "Epoch 4: val_accuracy improved from 0.99595 to 0.99714, saving model to model/model.h5\n",
      "234/234 [==============================] - 13s 55ms/step - loss: 30.1260 - accuracy: 0.9708 - val_loss: 3.2013 - val_accuracy: 0.9971\n",
      "Epoch 5/5\n",
      "233/234 [============================>.] - ETA: 0s - loss: 36.1317 - accuracy: 0.9813\n",
      "Epoch 5: val_accuracy did not improve from 0.99714\n",
      "234/234 [==============================] - 13s 55ms/step - loss: 36.0800 - accuracy: 0.9813 - val_loss: 6.9326 - val_accuracy: 0.9969\n"
     ]
    }
   ],
   "source": [
    "modelcheckpoint = keras.callbacks.ModelCheckpoint(filepath=modelsPath,\n",
    "                                  monitor='val_accuracy', verbose=1, save_best_only=True, mode='auto')\n",
    "\n",
    "\n",
    "classifier = model.fit(x_train, y_train,\n",
    "                       epochs=fit_epochs,\n",
    "                       batch_size=fit_batch_size, \n",
    "                       validation_data=(x_val, y_val),\n",
    "                       verbose=1, \n",
    "                       callbacks=[modelcheckpoint],\n",
    "                       shuffle=True)"
   ]
  },
  {
   "cell_type": "code",
   "execution_count": 55,
   "metadata": {},
   "outputs": [
    {
     "data": {
      "image/png": "[encoded data removed]",
      "text/plain": [
       "<Figure size 1000x600 with 1 Axes>"
      ]
     },
     "metadata": {},
     "output_type": "display_data"
    }
   ],
   "source": [
    "# Plot the training & validation accuracy\n",
    "plt.figure(figsize=(10, 6))\n",
    "plt.plot(classifier.history['accuracy'], label='Train Accuracy')\n",
    "plt.plot(classifier.history['val_accuracy'], label='Validation Accuracy')\n",
    "plt.title('Model Accuracy')\n",
    "plt.xlabel('Epochs')\n",
    "plt.ylabel('Accuracy')\n",
    "plt.legend(loc='upper left')\n",
    "plt.show() \n"
   ]
  },
  {
   "cell_type": "markdown",
   "metadata": {},
   "source": [
    "# Test du model"
   ]
  },
  {
   "cell_type": "code",
   "execution_count": 56,
   "metadata": {},
   "outputs": [
    {
     "name": "stdout",
     "output_type": "stream",
     "text": [
      "57/57 - 1s - loss: 10.2645 - accuracy: 0.9978 - 1s/epoch - 20ms/step\n",
      "Validation Accuracy: 99.78%\n"
     ]
    }
   ],
   "source": [
    "# Evaluate the model on validation data\n",
    "test_loss, base_test_acc = model.evaluate(x_test, y_test, verbose=2)\n",
    "print(f'Validation Accuracy: {base_test_acc * 100:.2f}%')\n",
    "\n"
   ]
  },
  {
   "cell_type": "markdown",
   "metadata": {},
   "source": [
    "## Exemple de prediction d'une image randum"
   ]
  },
  {
   "cell_type": "code",
   "execution_count": 57,
   "metadata": {},
   "outputs": [
    {
     "name": "stdout",
     "output_type": "stream",
     "text": [
      "1/1 [==============================] - 0s 265ms/step\n"
     ]
    },
    {
     "data": {
      "image/png": "[encoded data removed]",
      "text/plain": [
       "<Figure size 640x480 with 1 Axes>"
      ]
     },
     "metadata": {},
     "output_type": "display_data"
    }
   ],
   "source": [
    "import random\n",
    "random_idx = random.randint(0, len(x_val) - 1)\n",
    "img = x_val[random_idx].reshape(1, image_scale, image_scale, 1)\n",
    "\n",
    "prediction = model.predict(img)\n",
    "predicted_class = np.argmax(prediction)\n",
    "\n",
    "predicted_label = reverselookup[predicted_class]\n",
    "\n",
    "plt.imshow(x_val[random_idx].reshape(image_scale, image_scale), cmap='gray')\n",
    "plt.title(f\"Predicted Label: {predicted_label}\")\n",
    "plt.axis('off')\n",
    "plt.show()"
   ]
  },
  {
   "cell_type": "markdown",
   "metadata": {},
   "source": [
    "# Pruning du model"
   ]
  },
  {
   "cell_type": "code",
   "execution_count": 59,
   "metadata": {},
   "outputs": [
    {
     "name": "stdout",
     "output_type": "stream",
     "text": [
      "*********** Model summary*********\n",
      "Model: \"model\"\n",
      "_________________________________________________________________\n",
      " Layer (type)                Output Shape              Param #   \n",
      "=================================================================\n",
      " input_1 (InputLayer)        [(None, 120, 120, 1)]     0         \n",
      "                                                                 \n",
      " conv2d (Conv2D)             (None, 120, 120, 32)      320       \n",
      "                                                                 \n",
      " activation (Activation)     (None, 120, 120, 32)      0         \n",
      "                                                                 \n",
      " max_pooling2d (MaxPooling2  (None, 60, 60, 32)        0         \n",
      " D)                                                              \n",
      "                                                                 \n",
      " conv2d_1 (Conv2D)           (None, 60, 60, 64)        18496     \n",
      "                                                                 \n",
      " activation_1 (Activation)   (None, 60, 60, 64)        0         \n",
      "                                                                 \n",
      " max_pooling2d_1 (MaxPoolin  (None, 30, 30, 64)        0         \n",
      " g2D)                                                            \n",
      "                                                                 \n",
      " conv2d_2 (Conv2D)           (None, 30, 30, 128)       73856     \n",
      "                                                                 \n",
      " activation_2 (Activation)   (None, 30, 30, 128)       0         \n",
      "                                                                 \n",
      " max_pooling2d_2 (MaxPoolin  (None, 15, 15, 128)       0         \n",
      " g2D)                                                            \n",
      "                                                                 \n",
      " flatten (Flatten)           (None, 28800)             0         \n",
      "                                                                 \n",
      " dense (Dense)               (None, 128)               3686528   \n",
      "                                                                 \n",
      " activation_3 (Activation)   (None, 128)               0         \n",
      "                                                                 \n",
      " dropout (Dropout)           (None, 128)               0         \n",
      "                                                                 \n",
      " dense_1 (Dense)             (None, 10)                1290      \n",
      "                                                                 \n",
      " activation_4 (Activation)   (None, 10)                0         \n",
      "                                                                 \n",
      "=================================================================\n",
      "Total params: 3780490 (14.42 MB)\n",
      "Trainable params: 3780490 (14.42 MB)\n",
      "Non-trainable params: 0 (0.00 Byte)\n",
      "_________________________________________________________________\n",
      "None\n"
     ]
    }
   ],
   "source": [
    "from tensorflow.keras.models import load_model\n",
    "import tensorflow_model_optimization as tfmot\n",
    "\n",
    "\n",
    "model_path = \"model/model.h5\"\n",
    "model = keras.models.load_model(model_path)\n",
    "print(\"*********** Model summary*********\")\n",
    "print(model.summary())\n",
    "\n"
   ]
  },
  {
   "cell_type": "code",
   "execution_count": 60,
   "metadata": {},
   "outputs": [
    {
     "name": "stdout",
     "output_type": "stream",
     "text": [
      "Model: \"model\"\n",
      "_________________________________________________________________\n",
      " Layer (type)                Output Shape              Param #   \n",
      "=================================================================\n",
      " input_1 (InputLayer)        [(None, 120, 120, 1)]     0         \n",
      "                                                                 \n",
      " prune_low_magnitude_conv2d  (None, 120, 120, 32)      610       \n",
      "  (PruneLowMagnitude)                                            \n",
      "                                                                 \n",
      " prune_low_magnitude_activa  (None, 120, 120, 32)      1         \n",
      " tion (PruneLowMagnitude)                                        \n",
      "                                                                 \n",
      " prune_low_magnitude_max_po  (None, 60, 60, 32)        1         \n",
      " oling2d (PruneLowMagnitude                                      \n",
      " )                                                               \n",
      "                                                                 \n",
      " prune_low_magnitude_conv2d  (None, 60, 60, 64)        36930     \n",
      " _1 (PruneLowMagnitude)                                          \n",
      "                                                                 \n",
      " prune_low_magnitude_activa  (None, 60, 60, 64)        1         \n",
      " tion_1 (PruneLowMagnitude)                                      \n",
      "                                                                 \n",
      " prune_low_magnitude_max_po  (None, 30, 30, 64)        1         \n",
      " oling2d_1 (PruneLowMagnitu                                      \n",
      " de)                                                             \n",
      "                                                                 \n",
      " prune_low_magnitude_conv2d  (None, 30, 30, 128)       147586    \n",
      " _2 (PruneLowMagnitude)                                          \n",
      "                                                                 \n",
      " prune_low_magnitude_activa  (None, 30, 30, 128)       1         \n",
      " tion_2 (PruneLowMagnitude)                                      \n",
      "                                                                 \n",
      " prune_low_magnitude_max_po  (None, 15, 15, 128)       1         \n",
      " oling2d_2 (PruneLowMagnitu                                      \n",
      " de)                                                             \n",
      "                                                                 \n",
      " prune_low_magnitude_flatte  (None, 28800)             1         \n",
      " n (PruneLowMagnitude)                                           \n",
      "                                                                 \n",
      " prune_low_magnitude_dense   (None, 128)               7372930   \n",
      " (PruneLowMagnitude)                                             \n",
      "                                                                 \n",
      " prune_low_magnitude_activa  (None, 128)               1         \n",
      " tion_3 (PruneLowMagnitude)                                      \n",
      "                                                                 \n",
      " prune_low_magnitude_dropou  (None, 128)               1         \n",
      " t (PruneLowMagnitude)                                           \n",
      "                                                                 \n",
      " prune_low_magnitude_dense_  (None, 10)                2572      \n",
      " 1 (PruneLowMagnitude)                                           \n",
      "                                                                 \n",
      " prune_low_magnitude_activa  (None, 10)                1         \n",
      " tion_4 (PruneLowMagnitude)                                      \n",
      "                                                                 \n",
      "=================================================================\n",
      "Total params: 7560638 (28.84 MB)\n",
      "Trainable params: 3780490 (14.42 MB)\n",
      "Non-trainable params: 3780148 (14.42 MB)\n",
      "_________________________________________________________________\n"
     ]
    }
   ],
   "source": [
    "batch_size=60\n",
    "prune_low_magnitude = tfmot.sparsity.keras.prune_low_magnitude\n",
    "num_images = x_train.shape[0]\n",
    "end_step = np.ceil(num_images / batch_size).astype(np.int32) * fit_epochs\n",
    "\n",
    "# Define model for pruning.\n",
    "pruning_params = {\n",
    "      'pruning_schedule': tfmot.sparsity.keras.PolynomialDecay(initial_sparsity=0.50,\n",
    "                                                               final_sparsity=0.80,\n",
    "                                                               begin_step=0,\n",
    "                                                               end_step=end_step)\n",
    "}\n",
    "\n",
    "model_for_pruning = prune_low_magnitude(model, **pruning_params)\n",
    "\n",
    "# `prune_low_magnitude` requires a recompile.\n",
    "model_for_pruning.compile(optimizer='adam',\n",
    "              loss=keras.losses.CategoricalCrossentropy(from_logits=False),\n",
    "              metrics=['accuracy'])\n",
    "\n",
    "model_for_pruning.summary()"
   ]
  },
  {
   "cell_type": "code",
   "execution_count": 61,
   "metadata": {},
   "outputs": [
    {
     "name": "stdout",
     "output_type": "stream",
     "text": [
      "Epoch 1/3\n",
      " 6/28 [=====>........................] - ETA: 12s - loss: 73.2809 - accuracy: 0.9521WARNING:tensorflow:Callback method `on_train_batch_end` is slow compared to the batch time (batch time: 0.1684s vs `on_train_batch_end` time: 0.3766s). Check your callbacks.\n"
     ]
    },
    {
     "name": "stderr",
     "output_type": "stream",
     "text": [
      "WARNING:tensorflow:Callback method `on_train_batch_end` is slow compared to the batch time (batch time: 0.1684s vs `on_train_batch_end` time: 0.3766s). Check your callbacks.\n"
     ]
    },
    {
     "name": "stdout",
     "output_type": "stream",
     "text": [
      "28/28 [==============================] - 18s 547ms/step - loss: 68.5691 - accuracy: 0.9634 - val_loss: 6.2788 - val_accuracy: 0.9969\n",
      "Epoch 2/3\n",
      "28/28 [==============================] - 14s 519ms/step - loss: 55.0761 - accuracy: 0.9744 - val_loss: 4.9358 - val_accuracy: 0.9981\n",
      "Epoch 3/3\n",
      "28/28 [==============================] - 14s 507ms/step - loss: 49.0170 - accuracy: 0.9786 - val_loss: 2.0434 - val_accuracy: 0.9990\n"
     ]
    },
    {
     "name": "stderr",
     "output_type": "stream",
     "text": [
      "/var/folders/x1/s72xqs4s1n73j68r6wm3y_6w0000gn/T/ipykernel_1083/1423643588.py:14: UserWarning: You are saving your model as an HDF5 file via `model.save()`. This file format is considered legacy. We recommend using instead the native TF-Keras format, e.g. `model.save('my_model.keras')`.\n",
      "  keras.models.save_model(model_for_pruning, \"model/model_pruned.h5\", include_optimizer=False)\n"
     ]
    }
   ],
   "source": [
    "import tempfile\n",
    "log_dire=tempfile.mkdtemp()\n",
    "\n",
    "callbacks = [\n",
    "  tfmot.sparsity.keras.UpdatePruningStep(),\n",
    "  tfmot.sparsity.keras.PruningSummaries(log_dir=log_dire),\n",
    "]\n",
    "\n",
    "\n",
    "classifier =model_for_pruning.fit(x_train, y_train,\n",
    "                  batch_size=512, epochs=3, validation_data=(x_val, y_val),\n",
    "                  callbacks=callbacks)\n",
    "\n",
    "keras.models.save_model(model_for_pruning, \"model/model_pruned.h5\", include_optimizer=False)\n"
   ]
  },
  {
   "cell_type": "code",
   "execution_count": 62,
   "metadata": {},
   "outputs": [
    {
     "name": "stdout",
     "output_type": "stream",
     "text": [
      "57/57 - 1s - loss: 3.0557 - accuracy: 0.9989 - 542ms/epoch - 10ms/step\n",
      "Baseline test accuracy: 99.77777600288391\n",
      "Pruned test accuracy: 99.8888909816742\n"
     ]
    }
   ],
   "source": [
    "_, model_pruned_accuracy = model_for_pruning.evaluate(x_test, y_test, verbose=2)\n",
    "\n",
    "print('Baseline test accuracy:', base_test_acc * 100)\n",
    "print('Pruned test accuracy:', model_pruned_accuracy*100)"
   ]
  },
  {
   "cell_type": "markdown",
   "metadata": {},
   "source": [
    "### Suppression de toutes les variables tensorflow non necessaire "
   ]
  },
  {
   "cell_type": "code",
   "execution_count": 63,
   "metadata": {},
   "outputs": [
    {
     "name": "stdout",
     "output_type": "stream",
     "text": [
      "WARNING:tensorflow:Compiled the loaded model, but the compiled metrics have yet to be built. `model.compile_metrics` will be empty until you train or evaluate the model.\n"
     ]
    },
    {
     "name": "stderr",
     "output_type": "stream",
     "text": [
      "/var/folders/x1/s72xqs4s1n73j68r6wm3y_6w0000gn/T/ipykernel_1083/41469463.py:3: UserWarning: You are saving your model as an HDF5 file via `model.save()`. This file format is considered legacy. We recommend using instead the native TF-Keras format, e.g. `model.save('my_model.keras')`.\n",
      "  keras.models.save_model(model_for_export, \"model/model_pruned_export.h5\", include_optimizer=False)\n",
      "WARNING:tensorflow:Compiled the loaded model, but the compiled metrics have yet to be built. `model.compile_metrics` will be empty until you train or evaluate the model.\n"
     ]
    }
   ],
   "source": [
    "model_for_export = tfmot.sparsity.keras.strip_pruning(model_for_pruning)\n",
    "\n",
    "keras.models.save_model(model_for_export, \"model/model_pruned_export.h5\", include_optimizer=False)\n",
    "\n",
    "\n"
   ]
  },
  {
   "cell_type": "markdown",
   "metadata": {},
   "source": [
    "# Creation d'un modele pour TFLite"
   ]
  },
  {
   "cell_type": "code",
   "execution_count": 64,
   "metadata": {},
   "outputs": [
    {
     "name": "stdout",
     "output_type": "stream",
     "text": [
      "INFO:tensorflow:Assets written to: /var/folders/x1/s72xqs4s1n73j68r6wm3y_6w0000gn/T/tmp8ke1ikif/assets\n"
     ]
    },
    {
     "name": "stderr",
     "output_type": "stream",
     "text": [
      "INFO:tensorflow:Assets written to: /var/folders/x1/s72xqs4s1n73j68r6wm3y_6w0000gn/T/tmp8ke1ikif/assets\n",
      "W0000 00:00:1736318562.539723    9387 tf_tfl_flatbuffer_helpers.cc:390] Ignored output_format.\n",
      "W0000 00:00:1736318562.539901    9387 tf_tfl_flatbuffer_helpers.cc:393] Ignored drop_control_dependency.\n",
      "2025-01-08 01:42:42.541328: I tensorflow/cc/saved_model/reader.cc:83] Reading SavedModel from: /var/folders/x1/s72xqs4s1n73j68r6wm3y_6w0000gn/T/tmp8ke1ikif\n",
      "2025-01-08 01:42:42.542276: I tensorflow/cc/saved_model/reader.cc:51] Reading meta graph with tags { serve }\n",
      "2025-01-08 01:42:42.542283: I tensorflow/cc/saved_model/reader.cc:146] Reading SavedModel debug info (if present) from: /var/folders/x1/s72xqs4s1n73j68r6wm3y_6w0000gn/T/tmp8ke1ikif\n",
      "2025-01-08 01:42:42.549726: I tensorflow/cc/saved_model/loader.cc:234] Restoring SavedModel bundle.\n",
      "2025-01-08 01:42:42.574187: I tensorflow/cc/saved_model/loader.cc:218] Running initialization op on SavedModel bundle at path: /var/folders/x1/s72xqs4s1n73j68r6wm3y_6w0000gn/T/tmp8ke1ikif\n",
      "2025-01-08 01:42:42.579850: I tensorflow/cc/saved_model/loader.cc:317] SavedModel load for tags { serve }; Status: success: OK. Took 38528 microseconds.\n"
     ]
    }
   ],
   "source": [
    "converter = tf.lite.TFLiteConverter.from_keras_model(model_for_export)\n",
    "pruned_tflite_model = converter.convert()\n",
    "\n",
    "\n",
    "with open(\"model/model_pruned_TFLite.tflite\", 'wb') as f:\n",
    "  f.write(pruned_tflite_model)\n"
   ]
  },
  {
   "cell_type": "markdown",
   "metadata": {},
   "source": [
    "# Quantisation"
   ]
  },
  {
   "cell_type": "code",
   "execution_count": 65,
   "metadata": {},
   "outputs": [
    {
     "name": "stdout",
     "output_type": "stream",
     "text": [
      "INFO:tensorflow:Assets written to: /var/folders/x1/s72xqs4s1n73j68r6wm3y_6w0000gn/T/tmp25hi08be/assets\n"
     ]
    },
    {
     "name": "stderr",
     "output_type": "stream",
     "text": [
      "INFO:tensorflow:Assets written to: /var/folders/x1/s72xqs4s1n73j68r6wm3y_6w0000gn/T/tmp25hi08be/assets\n",
      "W0000 00:00:1736318563.298125    9387 tf_tfl_flatbuffer_helpers.cc:390] Ignored output_format.\n",
      "W0000 00:00:1736318563.298136    9387 tf_tfl_flatbuffer_helpers.cc:393] Ignored drop_control_dependency.\n",
      "2025-01-08 01:42:43.298239: I tensorflow/cc/saved_model/reader.cc:83] Reading SavedModel from: /var/folders/x1/s72xqs4s1n73j68r6wm3y_6w0000gn/T/tmp25hi08be\n",
      "2025-01-08 01:42:43.299060: I tensorflow/cc/saved_model/reader.cc:51] Reading meta graph with tags { serve }\n",
      "2025-01-08 01:42:43.299066: I tensorflow/cc/saved_model/reader.cc:146] Reading SavedModel debug info (if present) from: /var/folders/x1/s72xqs4s1n73j68r6wm3y_6w0000gn/T/tmp25hi08be\n",
      "2025-01-08 01:42:43.305230: I tensorflow/cc/saved_model/loader.cc:234] Restoring SavedModel bundle.\n",
      "2025-01-08 01:42:43.324418: I tensorflow/cc/saved_model/loader.cc:218] Running initialization op on SavedModel bundle at path: /var/folders/x1/s72xqs4s1n73j68r6wm3y_6w0000gn/T/tmp25hi08be\n",
      "2025-01-08 01:42:43.330097: I tensorflow/cc/saved_model/loader.cc:317] SavedModel load for tags { serve }; Status: success: OK. Took 31858 microseconds.\n"
     ]
    }
   ],
   "source": [
    "converter = tf.lite.TFLiteConverter.from_keras_model(model_for_export)\n",
    "converter.optimizations = [tf.lite.Optimize.DEFAULT]\n",
    "quantized_and_pruned_tflite_model = converter.convert()\n",
    "\n",
    "with open(\"model/model_quantized_and_pruned_tflite.tflite\", 'wb') as f:\n",
    "  f.write(quantized_and_pruned_tflite_model)"
   ]
  },
  {
   "cell_type": "markdown",
   "metadata": {},
   "source": [
    "### Quantization 2"
   ]
  },
  {
   "cell_type": "code",
   "execution_count": 66,
   "metadata": {},
   "outputs": [
    {
     "name": "stdout",
     "output_type": "stream",
     "text": [
      "WARNING:tensorflow:No training configuration found in the save file, so the model was *not* compiled. Compile it manually.\n"
     ]
    },
    {
     "name": "stderr",
     "output_type": "stream",
     "text": [
      "WARNING:tensorflow:No training configuration found in the save file, so the model was *not* compiled. Compile it manually.\n"
     ]
    },
    {
     "name": "stdout",
     "output_type": "stream",
     "text": [
      "WARNING:tensorflow:Compiled the loaded model, but the compiled metrics have yet to be built. `model.compile_metrics` will be empty until you train or evaluate the model.\n"
     ]
    },
    {
     "name": "stderr",
     "output_type": "stream",
     "text": [
      "/Users/mamoudousdiani/miniconda3/envs/tf_clone/lib/python3.9/site-packages/tf_keras/src/engine/training.py:3098: UserWarning: You are saving your model as an HDF5 file via `model.save()`. This file format is considered legacy. We recommend using instead the native TF-Keras format, e.g. `model.save('my_model.keras')`.\n",
      "  saving_api.save_model(\n",
      "WARNING:tensorflow:Compiled the loaded model, but the compiled metrics have yet to be built. `model.compile_metrics` will be empty until you train or evaluate the model.\n"
     ]
    },
    {
     "name": "stdout",
     "output_type": "stream",
     "text": [
      "57/57 - 1s - loss: 3.0557 - accuracy: 0.9989 - 727ms/epoch - 13ms/step\n"
     ]
    }
   ],
   "source": [
    "model = keras.models.load_model('model/model_pruned_export.h5')\n",
    "quantize_model = tfmot.quantization.keras.quantize_model\n",
    "quantized_model = quantize_model(model)\n",
    "\n",
    "# Sauvegarde\n",
    "quantized_model.save('model/model_pruned_and_quantized.h5')\n",
    "_, model_pruned_quantized_accuracy = model_for_pruning.evaluate(x_test, y_test, verbose=2)\n"
   ]
  },
  {
   "cell_type": "markdown",
   "metadata": {},
   "source": [
    "# Test"
   ]
  },
  {
   "cell_type": "markdown",
   "metadata": {},
   "source": [
    "## Test du poids"
   ]
  },
  {
   "cell_type": "code",
   "execution_count": 69,
   "metadata": {},
   "outputs": [
    {
     "name": "stdout",
     "output_type": "stream",
     "text": [
      "taille du model de base zippé : 36.22 Mo\n",
      "taille du model pruné zippé : 13.50 Mo\n",
      "taille du model pruné et converti TFLite zippé : 13.37 Mo\n",
      "taille du model pruné, quantisé et converti TFLite zippé : 2.57 Mo\n",
      "taille du model pruné, quantisé zippé : 13.48 Mo\n"
     ]
    }
   ],
   "source": [
    "print(\"taille du model de base zippé : %.2f Mo\" % (get_gzipped_model_size(\"model/model.h5\")/(1024 ** 2)))\n",
    "print(\"taille du model pruné zippé : %.2f Mo\" % (get_gzipped_model_size(\"model/model_pruned.h5\")/(1024 ** 2)))\n",
    "print(\"taille du model pruné et converti TFLite zippé : %.2f Mo\" % (get_gzipped_model_size(\"model/model_pruned_TFLite.tflite\")/(1024 ** 2)))\n",
    "print(\"taille du model pruné, quantisé et converti TFLite zippé : %.2f Mo\" % (get_gzipped_model_size(\"model/model_quantized_and_pruned_tflite.tflite\")/(1024 ** 2)))\n",
    "print(\"taille du model pruné, quantisé zippé : %.2f Mo\" % (get_gzipped_model_size(\"model/model_pruned_and_quantized.h5\")/(1024 ** 2)))"
   ]
  },
  {
   "cell_type": "code",
   "execution_count": 71,
   "metadata": {},
   "outputs": [
    {
     "name": "stdout",
     "output_type": "stream",
     "text": [
      "taille du model de base : 43.33 Mo\n",
      "taille du model pruné : 28.91 Mo\n",
      "taille du model pruné et converti TFLite : 14.43 Mo\n",
      "taille du model pruné, quantisé et converti TFLite : 3.61 Mo\n",
      "taille du model pruné, quantisé : 14.49 Mo\n"
     ]
    }
   ],
   "source": [
    "\n",
    "import os\n",
    "print(f\"taille du model de base : {os.path.getsize('model/model.h5') / (1024 ** 2):.2f} Mo\" )\n",
    "print(f\"taille du model pruné : {os.path.getsize('model/model_pruned.h5') / (1024 ** 2):.2f} Mo\" )\n",
    "print(f\"taille du model pruné et converti TFLite : {os.path.getsize('model/model_pruned_TFLite.tflite') / (1024 ** 2):.2f} Mo\" )\n",
    "print(f\"taille du model pruné, quantisé et converti TFLite : {os.path.getsize('model/model_quantized_and_pruned_tflite.tflite') / (1024 ** 2):.2f} Mo\" )\n",
    "print(f\"taille du model pruné, quantisé : {os.path.getsize('model/model_pruned_and_quantized.h5') / (1024 ** 2):.2f} Mo\" )"
   ]
  },
  {
   "cell_type": "markdown",
   "metadata": {},
   "source": [
    "## Test de precision"
   ]
  },
  {
   "cell_type": "code",
   "execution_count": 72,
   "metadata": {},
   "outputs": [],
   "source": [
    "import numpy as np\n",
    "\n",
    "def evaluate_model(interpreter):\n",
    "  input_index = interpreter.get_input_details()[0][\"index\"]\n",
    "  output_index = interpreter.get_output_details()[0][\"index\"]\n",
    "  print(input_index)\n",
    "\n",
    "  # Run predictions on ever y image in the \"test\" dataset.\n",
    "  prediction_digits = []\n",
    "  for i, x in enumerate(x_test):\n",
    "    if i % 1000 == 0:\n",
    "      print('Evaluated on {n} results so far.'.format(n=i))\n",
    "    # Pre-processing: add batch dimension and convert to float32 to match with\n",
    "    # the model's input data format.\n",
    "    x = np.expand_dims(x, axis=0).astype(np.float32)\n",
    "    interpreter.set_tensor(input_index, x)\n",
    "\n",
    "    # Run inference.\n",
    "    interpreter.invoke()\n",
    "\n",
    "    # Post-processing: remove batch dimension and find the digit with highest\n",
    "    # probability.\n",
    "    output = interpreter.tensor(output_index)\n",
    "    digit = np.argmax(output()[0])\n",
    "    prediction_digits.append(digit)\n",
    "\n",
    "  print('\\n')\n",
    "  y_test_indices = np.argmax(y_test, axis=1)\n",
    "  # Compare prediction results with ground truth labels to calculate accuracy.\n",
    "  prediction_digits = np.array(prediction_digits)\n",
    "  accuracy = (prediction_digits == y_test_indices).mean()\n",
    "  return accuracy"
   ]
  },
  {
   "cell_type": "code",
   "execution_count": 73,
   "metadata": {},
   "outputs": [
    {
     "name": "stdout",
     "output_type": "stream",
     "text": [
      "0\n",
      "Evaluated on 0 results so far.\n",
      "Evaluated on 1000 results so far.\n",
      "\n",
      "\n"
     ]
    }
   ],
   "source": [
    "interpreter = tf.lite.Interpreter(model_content=pruned_tflite_model)\n",
    "\n",
    "interpreter.allocate_tensors()\n",
    "\n",
    "test_accuracy = evaluate_model(interpreter)\n"
   ]
  },
  {
   "cell_type": "code",
   "execution_count": 74,
   "metadata": {},
   "outputs": [
    {
     "data": {
      "text/plain": [
       "[{'name': 'serving_default_input_1:0',\n",
       "  'index': 0,\n",
       "  'shape': array([  1, 120, 120,   1], dtype=int32),\n",
       "  'shape_signature': array([ -1, 120, 120,   1], dtype=int32),\n",
       "  'dtype': numpy.float32,\n",
       "  'quantization': (0.0, 0),\n",
       "  'quantization_parameters': {'scales': array([], dtype=float32),\n",
       "   'zero_points': array([], dtype=int32),\n",
       "   'quantized_dimension': 0},\n",
       "  'sparsity_parameters': {}}]"
      ]
     },
     "execution_count": 74,
     "metadata": {},
     "output_type": "execute_result"
    }
   ],
   "source": [
    "interpreter.get_input_details()"
   ]
  },
  {
   "cell_type": "code",
   "execution_count": null,
   "metadata": {},
   "outputs": [],
   "source": []
  },
  {
   "cell_type": "code",
   "execution_count": 76,
   "metadata": {},
   "outputs": [
    {
     "name": "stdout",
     "output_type": "stream",
     "text": [
      "0\n",
      "Evaluated on 0 results so far.\n",
      "Evaluated on 1000 results so far.\n",
      "\n",
      "\n",
      "0\n",
      "Evaluated on 0 results so far.\n",
      "Evaluated on 1000 results so far.\n",
      "\n",
      "\n",
      "model de base test accuracy: 99.77777600288391\n",
      "model pruné test accuracy: 99.8888909816742\n",
      "model pruné TF test accuracy: 99.16666666666667\n",
      "model pruné and quantisé TFLite test accuracy: 99.16666666666667\n",
      "model pruné et quantisé 99.8888909816742\n"
     ]
    }
   ],
   "source": [
    "interpreter = tf.lite.Interpreter(model_content=pruned_tflite_model)\n",
    "\n",
    "interpreter.allocate_tensors()\n",
    "\n",
    "test_accuracy = evaluate_model(interpreter)\n",
    "\n",
    "\n",
    "interpreter = tf.lite.Interpreter(model_content=quantized_and_pruned_tflite_model)\n",
    "interpreter.allocate_tensors()\n",
    "\n",
    "test_accuracy_1 = evaluate_model(interpreter)\n",
    "\n",
    "print('model de base test accuracy:', base_test_acc * 100)\n",
    "print('model pruné test accuracy:', model_pruned_accuracy*100)\n",
    "print('model pruné TF test accuracy:', test_accuracy*100)\n",
    "print('model pruné and quantisé TFLite test accuracy:', test_accuracy_1*100)\n",
    "print('model pruné et quantisé', model_pruned_quantized_accuracy*100)\n",
    "\n",
    "#model_pruned_and_quantized\n"
   ]
  },
  {
   "cell_type": "markdown",
   "metadata": {},
   "source": [
    "# Convertion en C"
   ]
  },
  {
   "cell_type": "markdown",
   "metadata": {},
   "source": [
    "### conversion avec xxd\n",
    "xxd est un outil de conversion qui sert à convertir des fichiers binaires ( modèles .h5, .tflite) en une représentation hexadécimale ou en tableau C, qui peut ensuite être directement intégré dans un programme écrit en C."
   ]
  },
  {
   "cell_type": "code",
   "execution_count": 3,
   "metadata": {},
   "outputs": [],
   "source": [
    "!xxd -i model/model_quantized_and_pruned_tflite.tflite > model/model_quantized_tflite.c"
   ]
  },
  {
   "cell_type": "code",
   "execution_count": 4,
   "metadata": {},
   "outputs": [
    {
     "name": "stdout",
     "output_type": "stream",
     "text": [
      "taille du model de base : 22.28 Mo\n"
     ]
    }
   ],
   "source": [
    "import os\n",
    "print(f\"taille du model de base : {os.path.getsize('model/model_quantized_tflite.c') / (1024 ** 2):.2f} Mo\" )\n"
   ]
  },
  {
   "cell_type": "code",
   "execution_count": null,
   "metadata": {},
   "outputs": [],
   "source": []
  },
  {
   "cell_type": "markdown",
   "metadata": {},
   "source": [
    "### conversion avec keras2c\n",
    "keras2c Keras2C est un outil conçu pour convertir un modèle Keras en code C statique. Il permet de déployer des modèles d'apprentissage automatique dans des environnements où les ressources sont limitées, tels que les systèmes embarqués ou les microcontrôleurs.\n",
    "https://github.com/PlasmaControl/keras2c.git\n",
    "https://indico.cern.ch/event/737461/contributions/3729531/attachments/2120600/3570905/keras2c_slides.pdf"
   ]
  }
 ],
 "metadata": {
  "kernelspec": {
   "display_name": "tf_clone",
   "language": "python",
   "name": "python3"
  },
  "language_info": {
   "codemirror_mode": {
    "name": "ipython",
    "version": 3
   },
   "file_extension": ".py",
   "mimetype": "text/x-python",
   "name": "python",
   "nbconvert_exporter": "python",
   "pygments_lexer": "ipython3",
   "version": "3.9.18"
  }
 },
 "nbformat": 4,
 "nbformat_minor": 2
}
